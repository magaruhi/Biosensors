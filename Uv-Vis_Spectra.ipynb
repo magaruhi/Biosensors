{
  "nbformat": 4,
  "nbformat_minor": 0,
  "metadata": {
    "colab": {
      "provenance": [],
      "authorship_tag": "ABX9TyNaBP0U6cqZ+3HVAezkNXv9",
      "include_colab_link": true
    },
    "kernelspec": {
      "name": "python3",
      "display_name": "Python 3"
    },
    "language_info": {
      "name": "python"
    }
  },
  "cells": [
    {
      "cell_type": "markdown",
      "metadata": {
        "id": "view-in-github",
        "colab_type": "text"
      },
      "source": [
        "<a href=\"https://colab.research.google.com/github/magaruhi/Biosensors/blob/main/Uv-Vis_Spectra.ipynb\" target=\"_parent\"><img src=\"https://colab.research.google.com/assets/colab-badge.svg\" alt=\"Open In Colab\"/></a>"
      ]
    },
    {
      "cell_type": "code",
      "execution_count": 6,
      "metadata": {
        "id": "UGgESGJYhMAi",
        "colab": {
          "base_uri": "https://localhost:8080/"
        },
        "outputId": "d192c4d9-1215-4679-aa9c-48b6a30b62ff"
      },
      "outputs": [
        {
          "output_type": "stream",
          "name": "stdout",
          "text": [
            "Requirement already satisfied: pyspectra in /usr/local/lib/python3.10/dist-packages (0.0.1.2)\n",
            "Requirement already satisfied: numpy in /usr/local/lib/python3.10/dist-packages (from pyspectra) (1.23.5)\n",
            "Requirement already satisfied: pandas in /usr/local/lib/python3.10/dist-packages (from pyspectra) (1.5.3)\n",
            "Requirement already satisfied: spc-spectra in /usr/local/lib/python3.10/dist-packages (from pyspectra) (0.4.0)\n",
            "Requirement already satisfied: scipy in /usr/local/lib/python3.10/dist-packages (from pyspectra) (1.11.3)\n",
            "Requirement already satisfied: python-dateutil>=2.8.1 in /usr/local/lib/python3.10/dist-packages (from pandas->pyspectra) (2.8.2)\n",
            "Requirement already satisfied: pytz>=2020.1 in /usr/local/lib/python3.10/dist-packages (from pandas->pyspectra) (2023.3.post1)\n",
            "Requirement already satisfied: six>=1.5 in /usr/local/lib/python3.10/dist-packages (from python-dateutil>=2.8.1->pandas->pyspectra) (1.16.0)\n"
          ]
        }
      ],
      "source": [
        "# https://pypi.org/project/pyspectra/\n",
        "!pip install pyspectra\n",
        "import pyspectra\n",
        "#import spc\n",
        "import matplotlib.pyplot as plt\n",
        "import numpy as np\n",
        "import pandas as pd\n",
        "from sklearn.decomposition import PCA\n",
        "\n",
        "df_spc, dict_spc=read_spc_dir('pyspectra/sample_spectra/VIAVI')\n",
        "display(df_spc.transpose())\n",
        "f, ax =plt.subplots(1, figsize=(18,8))\n",
        "ax.plot(df_spc.transpose())\n",
        "plt.xlabel(\"nm\")\n",
        "plt.ylabel(\"Abs\")\n",
        "ax.legend(labels= list(df_spc.transpose().columns))\n",
        "plt.show()"
      ]
    }
  ]
}